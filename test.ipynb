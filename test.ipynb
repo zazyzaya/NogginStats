{
 "cells": [
  {
   "cell_type": "code",
   "execution_count": 48,
   "id": "aae37204",
   "metadata": {},
   "outputs": [],
   "source": [
    "import datetime as dt \n",
    "import os \n",
    "import json \n",
    "from random import random \n",
    "\n",
    "import plotly.express as px\n",
    "import pandas as pd "
   ]
  },
  {
   "cell_type": "code",
   "execution_count": 49,
   "id": "488eaa30",
   "metadata": {},
   "outputs": [
    {
     "data": {
      "text/html": [
       "<div>\n",
       "<style scoped>\n",
       "    .dataframe tbody tr th:only-of-type {\n",
       "        vertical-align: middle;\n",
       "    }\n",
       "\n",
       "    .dataframe tbody tr th {\n",
       "        vertical-align: top;\n",
       "    }\n",
       "\n",
       "    .dataframe thead th {\n",
       "        text-align: right;\n",
       "    }\n",
       "</style>\n",
       "<table border=\"1\" class=\"dataframe\">\n",
       "  <thead>\n",
       "    <tr style=\"text-align: right;\">\n",
       "      <th></th>\n",
       "      <th>stat-date</th>\n",
       "      <th>depression-range</th>\n",
       "      <th>anxiety-range</th>\n",
       "      <th>movement-checked</th>\n",
       "      <th>movement-txt</th>\n",
       "      <th>nutrition-checked</th>\n",
       "      <th>nutrition-txt</th>\n",
       "      <th>rest-checked</th>\n",
       "      <th>rest-txt</th>\n",
       "      <th>light-checked</th>\n",
       "      <th>light-txt</th>\n",
       "      <th>social-checked</th>\n",
       "      <th>social-txt</th>\n",
       "      <th>stress-checked</th>\n",
       "      <th>stress-txt</th>\n",
       "    </tr>\n",
       "  </thead>\n",
       "  <tbody>\n",
       "    <tr>\n",
       "      <th>9</th>\n",
       "      <td>2025-07-24</td>\n",
       "      <td>2</td>\n",
       "      <td>4</td>\n",
       "      <td>False</td>\n",
       "      <td>Test text for movement</td>\n",
       "      <td>False</td>\n",
       "      <td>Test text for nutrition</td>\n",
       "      <td>False</td>\n",
       "      <td>Test text for rest</td>\n",
       "      <td>True</td>\n",
       "      <td>Test text for light</td>\n",
       "      <td>False</td>\n",
       "      <td>Test text for social</td>\n",
       "      <td>True</td>\n",
       "      <td>Test text for stress</td>\n",
       "    </tr>\n",
       "    <tr>\n",
       "      <th>8</th>\n",
       "      <td>2025-07-23</td>\n",
       "      <td>6</td>\n",
       "      <td>8</td>\n",
       "      <td>False</td>\n",
       "      <td>Test text for movement</td>\n",
       "      <td>False</td>\n",
       "      <td>Test text for nutrition</td>\n",
       "      <td>True</td>\n",
       "      <td>Test text for rest</td>\n",
       "      <td>True</td>\n",
       "      <td>Test text for light</td>\n",
       "      <td>False</td>\n",
       "      <td>Test text for social</td>\n",
       "      <td>False</td>\n",
       "      <td>Test text for stress</td>\n",
       "    </tr>\n",
       "    <tr>\n",
       "      <th>7</th>\n",
       "      <td>2025-07-22</td>\n",
       "      <td>4</td>\n",
       "      <td>6</td>\n",
       "      <td>True</td>\n",
       "      <td>Test text for movement</td>\n",
       "      <td>False</td>\n",
       "      <td>Test text for nutrition</td>\n",
       "      <td>False</td>\n",
       "      <td>Test text for rest</td>\n",
       "      <td>False</td>\n",
       "      <td>Test text for light</td>\n",
       "      <td>True</td>\n",
       "      <td>Test text for social</td>\n",
       "      <td>False</td>\n",
       "      <td>Test text for stress</td>\n",
       "    </tr>\n",
       "    <tr>\n",
       "      <th>6</th>\n",
       "      <td>2025-07-21</td>\n",
       "      <td>1</td>\n",
       "      <td>9</td>\n",
       "      <td>True</td>\n",
       "      <td>Test text for movement</td>\n",
       "      <td>False</td>\n",
       "      <td>Test text for nutrition</td>\n",
       "      <td>False</td>\n",
       "      <td>Test text for rest</td>\n",
       "      <td>True</td>\n",
       "      <td>Test text for light</td>\n",
       "      <td>True</td>\n",
       "      <td>Test text for social</td>\n",
       "      <td>False</td>\n",
       "      <td>Test text for stress</td>\n",
       "    </tr>\n",
       "    <tr>\n",
       "      <th>5</th>\n",
       "      <td>2025-07-20</td>\n",
       "      <td>5</td>\n",
       "      <td>8</td>\n",
       "      <td>False</td>\n",
       "      <td>Test text for movement</td>\n",
       "      <td>False</td>\n",
       "      <td>Test text for nutrition</td>\n",
       "      <td>True</td>\n",
       "      <td>Test text for rest</td>\n",
       "      <td>False</td>\n",
       "      <td>Test text for light</td>\n",
       "      <td>False</td>\n",
       "      <td>Test text for social</td>\n",
       "      <td>True</td>\n",
       "      <td>Test text for stress</td>\n",
       "    </tr>\n",
       "    <tr>\n",
       "      <th>4</th>\n",
       "      <td>2025-07-19</td>\n",
       "      <td>4</td>\n",
       "      <td>10</td>\n",
       "      <td>False</td>\n",
       "      <td>Test text for movement</td>\n",
       "      <td>True</td>\n",
       "      <td>Test text for nutrition</td>\n",
       "      <td>True</td>\n",
       "      <td>Test text for rest</td>\n",
       "      <td>True</td>\n",
       "      <td>Test text for light</td>\n",
       "      <td>False</td>\n",
       "      <td>Test text for social</td>\n",
       "      <td>True</td>\n",
       "      <td>Test text for stress</td>\n",
       "    </tr>\n",
       "    <tr>\n",
       "      <th>3</th>\n",
       "      <td>2025-07-18</td>\n",
       "      <td>4</td>\n",
       "      <td>9</td>\n",
       "      <td>False</td>\n",
       "      <td>Test text for movement</td>\n",
       "      <td>False</td>\n",
       "      <td>Test text for nutrition</td>\n",
       "      <td>False</td>\n",
       "      <td>Test text for rest</td>\n",
       "      <td>False</td>\n",
       "      <td>Test text for light</td>\n",
       "      <td>True</td>\n",
       "      <td>Test text for social</td>\n",
       "      <td>False</td>\n",
       "      <td>Test text for stress</td>\n",
       "    </tr>\n",
       "    <tr>\n",
       "      <th>2</th>\n",
       "      <td>2025-07-17</td>\n",
       "      <td>7</td>\n",
       "      <td>3</td>\n",
       "      <td>False</td>\n",
       "      <td>Test text for movement</td>\n",
       "      <td>False</td>\n",
       "      <td>Test text for nutrition</td>\n",
       "      <td>True</td>\n",
       "      <td>Test text for rest</td>\n",
       "      <td>True</td>\n",
       "      <td>Test text for light</td>\n",
       "      <td>True</td>\n",
       "      <td>Test text for social</td>\n",
       "      <td>True</td>\n",
       "      <td>Test text for stress</td>\n",
       "    </tr>\n",
       "    <tr>\n",
       "      <th>1</th>\n",
       "      <td>2025-07-16</td>\n",
       "      <td>2</td>\n",
       "      <td>7</td>\n",
       "      <td>True</td>\n",
       "      <td>Test text for movement</td>\n",
       "      <td>True</td>\n",
       "      <td>Test text for nutrition</td>\n",
       "      <td>True</td>\n",
       "      <td>Test text for rest</td>\n",
       "      <td>False</td>\n",
       "      <td>Test text for light</td>\n",
       "      <td>True</td>\n",
       "      <td>Test text for social</td>\n",
       "      <td>True</td>\n",
       "      <td>Test text for stress</td>\n",
       "    </tr>\n",
       "    <tr>\n",
       "      <th>0</th>\n",
       "      <td>2025-07-15</td>\n",
       "      <td>6</td>\n",
       "      <td>7</td>\n",
       "      <td>True</td>\n",
       "      <td>Test text for movement</td>\n",
       "      <td>False</td>\n",
       "      <td>Test text for nutrition</td>\n",
       "      <td>True</td>\n",
       "      <td>Test text for rest</td>\n",
       "      <td>False</td>\n",
       "      <td>Test text for light</td>\n",
       "      <td>True</td>\n",
       "      <td>Test text for social</td>\n",
       "      <td>True</td>\n",
       "      <td>Test text for stress</td>\n",
       "    </tr>\n",
       "  </tbody>\n",
       "</table>\n",
       "</div>"
      ],
      "text/plain": [
       "    stat-date  depression-range  anxiety-range  movement-checked  \\\n",
       "9  2025-07-24                 2              4             False   \n",
       "8  2025-07-23                 6              8             False   \n",
       "7  2025-07-22                 4              6              True   \n",
       "6  2025-07-21                 1              9              True   \n",
       "5  2025-07-20                 5              8             False   \n",
       "4  2025-07-19                 4             10             False   \n",
       "3  2025-07-18                 4              9             False   \n",
       "2  2025-07-17                 7              3             False   \n",
       "1  2025-07-16                 2              7              True   \n",
       "0  2025-07-15                 6              7              True   \n",
       "\n",
       "             movement-txt  nutrition-checked            nutrition-txt  \\\n",
       "9  Test text for movement              False  Test text for nutrition   \n",
       "8  Test text for movement              False  Test text for nutrition   \n",
       "7  Test text for movement              False  Test text for nutrition   \n",
       "6  Test text for movement              False  Test text for nutrition   \n",
       "5  Test text for movement              False  Test text for nutrition   \n",
       "4  Test text for movement               True  Test text for nutrition   \n",
       "3  Test text for movement              False  Test text for nutrition   \n",
       "2  Test text for movement              False  Test text for nutrition   \n",
       "1  Test text for movement               True  Test text for nutrition   \n",
       "0  Test text for movement              False  Test text for nutrition   \n",
       "\n",
       "   rest-checked            rest-txt  light-checked            light-txt  \\\n",
       "9         False  Test text for rest           True  Test text for light   \n",
       "8          True  Test text for rest           True  Test text for light   \n",
       "7         False  Test text for rest          False  Test text for light   \n",
       "6         False  Test text for rest           True  Test text for light   \n",
       "5          True  Test text for rest          False  Test text for light   \n",
       "4          True  Test text for rest           True  Test text for light   \n",
       "3         False  Test text for rest          False  Test text for light   \n",
       "2          True  Test text for rest           True  Test text for light   \n",
       "1          True  Test text for rest          False  Test text for light   \n",
       "0          True  Test text for rest          False  Test text for light   \n",
       "\n",
       "   social-checked            social-txt  stress-checked            stress-txt  \n",
       "9           False  Test text for social            True  Test text for stress  \n",
       "8           False  Test text for social           False  Test text for stress  \n",
       "7            True  Test text for social           False  Test text for stress  \n",
       "6            True  Test text for social           False  Test text for stress  \n",
       "5           False  Test text for social            True  Test text for stress  \n",
       "4           False  Test text for social            True  Test text for stress  \n",
       "3            True  Test text for social           False  Test text for stress  \n",
       "2            True  Test text for social            True  Test text for stress  \n",
       "1            True  Test text for social            True  Test text for stress  \n",
       "0            True  Test text for social            True  Test text for stress  "
      ]
     },
     "execution_count": 49,
     "metadata": {},
     "output_type": "execute_result"
    }
   ],
   "source": [
    "STATS = [\n",
    "    (\"Overall feeling \\u2014 Depression\", 'depression', False),\n",
    "    (\"Overall feeling \\u2014 Anxiety\", 'anxiety', False),\n",
    "    (\"Movement\", 'movement', True), \n",
    "    (\"Nutrition\", 'nutrition', True),\n",
    "    (\"Rest\", 'rest', True),\n",
    "    (\"Light Exposure\", 'light', True),\n",
    "    (\"Social Connectedness\", 'social', True),\n",
    "    (\"Stress Management\", 'stress', True)\n",
    "]\n",
    "\n",
    "test_data = []\n",
    "for i in range(10): \n",
    "    datum = dict()\n",
    "    d = dt.datetime.today() - dt.timedelta(days=(-i))\n",
    "    datum['stat-date'] = d.strftime('%Y-%m-%d')\n",
    "    for _,k,b in STATS: \n",
    "        if b: \n",
    "            datum[f'{k}-checked'] = random() > 0.5 \n",
    "            datum[f'{k}-txt'] = f'Test text for {k}'\n",
    "        else: \n",
    "            datum[f'{k}-range'] = int((random() * 10) + 1)\n",
    "    test_data.append(datum)\n",
    "\n",
    "test_df = pd.DataFrame(test_data)\n",
    "orig_df = test_df.sort_values(by='stat-date', ascending=False)\n",
    "orig_df"
   ]
  },
  {
   "cell_type": "code",
   "execution_count": 52,
   "id": "36ebfa81",
   "metadata": {},
   "outputs": [
    {
     "data": {
      "application/vnd.plotly.v1+json": {
       "config": {
        "plotlyServerURL": "https://plot.ly"
       },
       "data": [
        {
         "hovertemplate": "<b>Depression</b><br>Date: %{x}<br>Score: %{y}<extra></extra>",
         "legendgroup": "depression-range",
         "line": {
          "color": "#636efa",
          "dash": "solid"
         },
         "marker": {
          "symbol": "circle"
         },
         "mode": "lines",
         "name": "Depression",
         "orientation": "v",
         "showlegend": true,
         "type": "scatter",
         "x": [
          "2025-07-24",
          "2025-07-23",
          "2025-07-22",
          "2025-07-21",
          "2025-07-20",
          "2025-07-19",
          "2025-07-18",
          "2025-07-17",
          "2025-07-16",
          "2025-07-15"
         ],
         "xaxis": "x",
         "y": {
          "bdata": "AgYEAQUEBAcCBg==",
          "dtype": "i1"
         },
         "yaxis": "y"
        },
        {
         "hovertemplate": "<b>Anxiety</b><br>Date: %{x}<br>Score: %{y}<extra></extra>",
         "legendgroup": "anxiety-range",
         "line": {
          "color": "#EF553B",
          "dash": "solid"
         },
         "marker": {
          "symbol": "circle"
         },
         "mode": "lines",
         "name": "Anxiety",
         "orientation": "v",
         "showlegend": true,
         "type": "scatter",
         "x": [
          "2025-07-24",
          "2025-07-23",
          "2025-07-22",
          "2025-07-21",
          "2025-07-20",
          "2025-07-19",
          "2025-07-18",
          "2025-07-17",
          "2025-07-16",
          "2025-07-15"
         ],
         "xaxis": "x",
         "y": {
          "bdata": "BAgGCQgKCQMHBw==",
          "dtype": "i1"
         },
         "yaxis": "y"
        }
       ],
       "layout": {
        "legend": {
         "orientation": "h",
         "title": {
          "text": "Mood Metric"
         },
         "tracegroupgap": 0,
         "x": 0.5,
         "xanchor": "center",
         "y": 1.02,
         "yanchor": "bottom"
        },
        "margin": {
         "t": 60
        },
        "template": {
         "data": {
          "bar": [
           {
            "error_x": {
             "color": "#2a3f5f"
            },
            "error_y": {
             "color": "#2a3f5f"
            },
            "marker": {
             "line": {
              "color": "#E5ECF6",
              "width": 0.5
             },
             "pattern": {
              "fillmode": "overlay",
              "size": 10,
              "solidity": 0.2
             }
            },
            "type": "bar"
           }
          ],
          "barpolar": [
           {
            "marker": {
             "line": {
              "color": "#E5ECF6",
              "width": 0.5
             },
             "pattern": {
              "fillmode": "overlay",
              "size": 10,
              "solidity": 0.2
             }
            },
            "type": "barpolar"
           }
          ],
          "carpet": [
           {
            "aaxis": {
             "endlinecolor": "#2a3f5f",
             "gridcolor": "white",
             "linecolor": "white",
             "minorgridcolor": "white",
             "startlinecolor": "#2a3f5f"
            },
            "baxis": {
             "endlinecolor": "#2a3f5f",
             "gridcolor": "white",
             "linecolor": "white",
             "minorgridcolor": "white",
             "startlinecolor": "#2a3f5f"
            },
            "type": "carpet"
           }
          ],
          "choropleth": [
           {
            "colorbar": {
             "outlinewidth": 0,
             "ticks": ""
            },
            "type": "choropleth"
           }
          ],
          "contour": [
           {
            "colorbar": {
             "outlinewidth": 0,
             "ticks": ""
            },
            "colorscale": [
             [
              0,
              "#0d0887"
             ],
             [
              0.1111111111111111,
              "#46039f"
             ],
             [
              0.2222222222222222,
              "#7201a8"
             ],
             [
              0.3333333333333333,
              "#9c179e"
             ],
             [
              0.4444444444444444,
              "#bd3786"
             ],
             [
              0.5555555555555556,
              "#d8576b"
             ],
             [
              0.6666666666666666,
              "#ed7953"
             ],
             [
              0.7777777777777778,
              "#fb9f3a"
             ],
             [
              0.8888888888888888,
              "#fdca26"
             ],
             [
              1,
              "#f0f921"
             ]
            ],
            "type": "contour"
           }
          ],
          "contourcarpet": [
           {
            "colorbar": {
             "outlinewidth": 0,
             "ticks": ""
            },
            "type": "contourcarpet"
           }
          ],
          "heatmap": [
           {
            "colorbar": {
             "outlinewidth": 0,
             "ticks": ""
            },
            "colorscale": [
             [
              0,
              "#0d0887"
             ],
             [
              0.1111111111111111,
              "#46039f"
             ],
             [
              0.2222222222222222,
              "#7201a8"
             ],
             [
              0.3333333333333333,
              "#9c179e"
             ],
             [
              0.4444444444444444,
              "#bd3786"
             ],
             [
              0.5555555555555556,
              "#d8576b"
             ],
             [
              0.6666666666666666,
              "#ed7953"
             ],
             [
              0.7777777777777778,
              "#fb9f3a"
             ],
             [
              0.8888888888888888,
              "#fdca26"
             ],
             [
              1,
              "#f0f921"
             ]
            ],
            "type": "heatmap"
           }
          ],
          "histogram": [
           {
            "marker": {
             "pattern": {
              "fillmode": "overlay",
              "size": 10,
              "solidity": 0.2
             }
            },
            "type": "histogram"
           }
          ],
          "histogram2d": [
           {
            "colorbar": {
             "outlinewidth": 0,
             "ticks": ""
            },
            "colorscale": [
             [
              0,
              "#0d0887"
             ],
             [
              0.1111111111111111,
              "#46039f"
             ],
             [
              0.2222222222222222,
              "#7201a8"
             ],
             [
              0.3333333333333333,
              "#9c179e"
             ],
             [
              0.4444444444444444,
              "#bd3786"
             ],
             [
              0.5555555555555556,
              "#d8576b"
             ],
             [
              0.6666666666666666,
              "#ed7953"
             ],
             [
              0.7777777777777778,
              "#fb9f3a"
             ],
             [
              0.8888888888888888,
              "#fdca26"
             ],
             [
              1,
              "#f0f921"
             ]
            ],
            "type": "histogram2d"
           }
          ],
          "histogram2dcontour": [
           {
            "colorbar": {
             "outlinewidth": 0,
             "ticks": ""
            },
            "colorscale": [
             [
              0,
              "#0d0887"
             ],
             [
              0.1111111111111111,
              "#46039f"
             ],
             [
              0.2222222222222222,
              "#7201a8"
             ],
             [
              0.3333333333333333,
              "#9c179e"
             ],
             [
              0.4444444444444444,
              "#bd3786"
             ],
             [
              0.5555555555555556,
              "#d8576b"
             ],
             [
              0.6666666666666666,
              "#ed7953"
             ],
             [
              0.7777777777777778,
              "#fb9f3a"
             ],
             [
              0.8888888888888888,
              "#fdca26"
             ],
             [
              1,
              "#f0f921"
             ]
            ],
            "type": "histogram2dcontour"
           }
          ],
          "mesh3d": [
           {
            "colorbar": {
             "outlinewidth": 0,
             "ticks": ""
            },
            "type": "mesh3d"
           }
          ],
          "parcoords": [
           {
            "line": {
             "colorbar": {
              "outlinewidth": 0,
              "ticks": ""
             }
            },
            "type": "parcoords"
           }
          ],
          "pie": [
           {
            "automargin": true,
            "type": "pie"
           }
          ],
          "scatter": [
           {
            "fillpattern": {
             "fillmode": "overlay",
             "size": 10,
             "solidity": 0.2
            },
            "type": "scatter"
           }
          ],
          "scatter3d": [
           {
            "line": {
             "colorbar": {
              "outlinewidth": 0,
              "ticks": ""
             }
            },
            "marker": {
             "colorbar": {
              "outlinewidth": 0,
              "ticks": ""
             }
            },
            "type": "scatter3d"
           }
          ],
          "scattercarpet": [
           {
            "marker": {
             "colorbar": {
              "outlinewidth": 0,
              "ticks": ""
             }
            },
            "type": "scattercarpet"
           }
          ],
          "scattergeo": [
           {
            "marker": {
             "colorbar": {
              "outlinewidth": 0,
              "ticks": ""
             }
            },
            "type": "scattergeo"
           }
          ],
          "scattergl": [
           {
            "marker": {
             "colorbar": {
              "outlinewidth": 0,
              "ticks": ""
             }
            },
            "type": "scattergl"
           }
          ],
          "scattermap": [
           {
            "marker": {
             "colorbar": {
              "outlinewidth": 0,
              "ticks": ""
             }
            },
            "type": "scattermap"
           }
          ],
          "scattermapbox": [
           {
            "marker": {
             "colorbar": {
              "outlinewidth": 0,
              "ticks": ""
             }
            },
            "type": "scattermapbox"
           }
          ],
          "scatterpolar": [
           {
            "marker": {
             "colorbar": {
              "outlinewidth": 0,
              "ticks": ""
             }
            },
            "type": "scatterpolar"
           }
          ],
          "scatterpolargl": [
           {
            "marker": {
             "colorbar": {
              "outlinewidth": 0,
              "ticks": ""
             }
            },
            "type": "scatterpolargl"
           }
          ],
          "scatterternary": [
           {
            "marker": {
             "colorbar": {
              "outlinewidth": 0,
              "ticks": ""
             }
            },
            "type": "scatterternary"
           }
          ],
          "surface": [
           {
            "colorbar": {
             "outlinewidth": 0,
             "ticks": ""
            },
            "colorscale": [
             [
              0,
              "#0d0887"
             ],
             [
              0.1111111111111111,
              "#46039f"
             ],
             [
              0.2222222222222222,
              "#7201a8"
             ],
             [
              0.3333333333333333,
              "#9c179e"
             ],
             [
              0.4444444444444444,
              "#bd3786"
             ],
             [
              0.5555555555555556,
              "#d8576b"
             ],
             [
              0.6666666666666666,
              "#ed7953"
             ],
             [
              0.7777777777777778,
              "#fb9f3a"
             ],
             [
              0.8888888888888888,
              "#fdca26"
             ],
             [
              1,
              "#f0f921"
             ]
            ],
            "type": "surface"
           }
          ],
          "table": [
           {
            "cells": {
             "fill": {
              "color": "#EBF0F8"
             },
             "line": {
              "color": "white"
             }
            },
            "header": {
             "fill": {
              "color": "#C8D4E3"
             },
             "line": {
              "color": "white"
             }
            },
            "type": "table"
           }
          ]
         },
         "layout": {
          "annotationdefaults": {
           "arrowcolor": "#2a3f5f",
           "arrowhead": 0,
           "arrowwidth": 1
          },
          "autotypenumbers": "strict",
          "coloraxis": {
           "colorbar": {
            "outlinewidth": 0,
            "ticks": ""
           }
          },
          "colorscale": {
           "diverging": [
            [
             0,
             "#8e0152"
            ],
            [
             0.1,
             "#c51b7d"
            ],
            [
             0.2,
             "#de77ae"
            ],
            [
             0.3,
             "#f1b6da"
            ],
            [
             0.4,
             "#fde0ef"
            ],
            [
             0.5,
             "#f7f7f7"
            ],
            [
             0.6,
             "#e6f5d0"
            ],
            [
             0.7,
             "#b8e186"
            ],
            [
             0.8,
             "#7fbc41"
            ],
            [
             0.9,
             "#4d9221"
            ],
            [
             1,
             "#276419"
            ]
           ],
           "sequential": [
            [
             0,
             "#0d0887"
            ],
            [
             0.1111111111111111,
             "#46039f"
            ],
            [
             0.2222222222222222,
             "#7201a8"
            ],
            [
             0.3333333333333333,
             "#9c179e"
            ],
            [
             0.4444444444444444,
             "#bd3786"
            ],
            [
             0.5555555555555556,
             "#d8576b"
            ],
            [
             0.6666666666666666,
             "#ed7953"
            ],
            [
             0.7777777777777778,
             "#fb9f3a"
            ],
            [
             0.8888888888888888,
             "#fdca26"
            ],
            [
             1,
             "#f0f921"
            ]
           ],
           "sequentialminus": [
            [
             0,
             "#0d0887"
            ],
            [
             0.1111111111111111,
             "#46039f"
            ],
            [
             0.2222222222222222,
             "#7201a8"
            ],
            [
             0.3333333333333333,
             "#9c179e"
            ],
            [
             0.4444444444444444,
             "#bd3786"
            ],
            [
             0.5555555555555556,
             "#d8576b"
            ],
            [
             0.6666666666666666,
             "#ed7953"
            ],
            [
             0.7777777777777778,
             "#fb9f3a"
            ],
            [
             0.8888888888888888,
             "#fdca26"
            ],
            [
             1,
             "#f0f921"
            ]
           ]
          },
          "colorway": [
           "#636efa",
           "#EF553B",
           "#00cc96",
           "#ab63fa",
           "#FFA15A",
           "#19d3f3",
           "#FF6692",
           "#B6E880",
           "#FF97FF",
           "#FECB52"
          ],
          "font": {
           "color": "#2a3f5f"
          },
          "geo": {
           "bgcolor": "white",
           "lakecolor": "white",
           "landcolor": "#E5ECF6",
           "showlakes": true,
           "showland": true,
           "subunitcolor": "white"
          },
          "hoverlabel": {
           "align": "left"
          },
          "hovermode": "closest",
          "mapbox": {
           "style": "light"
          },
          "paper_bgcolor": "white",
          "plot_bgcolor": "#E5ECF6",
          "polar": {
           "angularaxis": {
            "gridcolor": "white",
            "linecolor": "white",
            "ticks": ""
           },
           "bgcolor": "#E5ECF6",
           "radialaxis": {
            "gridcolor": "white",
            "linecolor": "white",
            "ticks": ""
           }
          },
          "scene": {
           "xaxis": {
            "backgroundcolor": "#E5ECF6",
            "gridcolor": "white",
            "gridwidth": 2,
            "linecolor": "white",
            "showbackground": true,
            "ticks": "",
            "zerolinecolor": "white"
           },
           "yaxis": {
            "backgroundcolor": "#E5ECF6",
            "gridcolor": "white",
            "gridwidth": 2,
            "linecolor": "white",
            "showbackground": true,
            "ticks": "",
            "zerolinecolor": "white"
           },
           "zaxis": {
            "backgroundcolor": "#E5ECF6",
            "gridcolor": "white",
            "gridwidth": 2,
            "linecolor": "white",
            "showbackground": true,
            "ticks": "",
            "zerolinecolor": "white"
           }
          },
          "shapedefaults": {
           "line": {
            "color": "#2a3f5f"
           }
          },
          "ternary": {
           "aaxis": {
            "gridcolor": "white",
            "linecolor": "white",
            "ticks": ""
           },
           "baxis": {
            "gridcolor": "white",
            "linecolor": "white",
            "ticks": ""
           },
           "bgcolor": "#E5ECF6",
           "caxis": {
            "gridcolor": "white",
            "linecolor": "white",
            "ticks": ""
           }
          },
          "title": {
           "x": 0.05
          },
          "xaxis": {
           "automargin": true,
           "gridcolor": "white",
           "linecolor": "white",
           "ticks": "",
           "title": {
            "standoff": 15
           },
           "zerolinecolor": "white",
           "zerolinewidth": 2
          },
          "yaxis": {
           "automargin": true,
           "gridcolor": "white",
           "linecolor": "white",
           "ticks": "",
           "title": {
            "standoff": 15
           },
           "zerolinecolor": "white",
           "zerolinewidth": 2
          }
         }
        },
        "xaxis": {
         "anchor": "y",
         "domain": [
          0,
          1
         ],
         "title": {
          "text": "Date"
         }
        },
        "yaxis": {
         "anchor": "x",
         "domain": [
          0,
          1
         ],
         "title": {
          "text": "Score"
         }
        }
       }
      }
     },
     "metadata": {},
     "output_type": "display_data"
    }
   ],
   "source": [
    "df = orig_df.copy() \n",
    "\n",
    "range_fig = px.line(\n",
    "    df, x='stat-date', y=['depression-range', 'anxiety-range'], \n",
    "    labels={\n",
    "        'variable': 'Mood Metric',  \n",
    "        'value': 'Score',           \n",
    "        'stat-date': 'Date',\n",
    "    }\n",
    ")\n",
    "\n",
    "range_fig.for_each_trace(lambda trace: (\n",
    "    trace.update(name={\n",
    "        'depression-range': 'Depression',\n",
    "        'anxiety-range': 'Anxiety'\n",
    "    }[trace.name]),\n",
    "    trace.update(hovertemplate=f\"<b>{trace.name}</b><br>Date: %{{x}}<br>Score: %{{y}}<extra></extra>\")\n",
    "))\n",
    "\n",
    "range_fig.update_layout(\n",
    "    legend=dict(\n",
    "        orientation=\"h\",     # horizontal\n",
    "        yanchor=\"bottom\",\n",
    "        y=1.02,\n",
    "        xanchor=\"center\",\n",
    "        x=0.5\n",
    "    )\n",
    ")\n"
   ]
  }
 ],
 "metadata": {
  "kernelspec": {
   "display_name": "nogstats",
   "language": "python",
   "name": "python3"
  },
  "language_info": {
   "codemirror_mode": {
    "name": "ipython",
    "version": 3
   },
   "file_extension": ".py",
   "mimetype": "text/x-python",
   "name": "python",
   "nbconvert_exporter": "python",
   "pygments_lexer": "ipython3",
   "version": "3.11.13"
  }
 },
 "nbformat": 4,
 "nbformat_minor": 5
}
